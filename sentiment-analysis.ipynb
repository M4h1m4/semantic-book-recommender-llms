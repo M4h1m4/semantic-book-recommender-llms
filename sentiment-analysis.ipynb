{
 "cells": [
  {
   "cell_type": "code",
   "id": "initial_id",
   "metadata": {
    "collapsed": true,
    "ExecuteTime": {
     "end_time": "2025-05-04T01:26:01.957630Z",
     "start_time": "2025-05-04T01:26:01.867617Z"
    }
   },
   "source": [
    "import pandas as pd\n",
    "\n",
    "books = pd.read_csv('books_with_categories.csv')"
   ],
   "outputs": [],
   "execution_count": 1
  },
  {
   "metadata": {
    "ExecuteTime": {
     "end_time": "2025-05-04T01:31:07.592284Z",
     "start_time": "2025-05-04T01:31:06.890927Z"
    }
   },
   "cell_type": "code",
   "source": [
    " from transformers import pipeline\n",
    "classifier = pipeline(\"text-classification\", model=\"j-hartmann/emotion-english-distilroberta-base\", top_k=None)\n",
    "classifier(\"I love this!\")\n"
   ],
   "id": "2974573363fc7064",
   "outputs": [
    {
     "name": "stderr",
     "output_type": "stream",
     "text": [
      "Device set to use mps:0\n"
     ]
    },
    {
     "data": {
      "text/plain": [
       "[[{'label': 'joy', 'score': 0.9771687984466553},\n",
       "  {'label': 'surprise', 'score': 0.008528684265911579},\n",
       "  {'label': 'neutral', 'score': 0.005764597561210394},\n",
       "  {'label': 'anger', 'score': 0.004419785924255848},\n",
       "  {'label': 'sadness', 'score': 0.002092391485348344},\n",
       "  {'label': 'disgust', 'score': 0.001611993182450533},\n",
       "  {'label': 'fear', 'score': 0.0004138521908316761}]]"
      ]
     },
     "execution_count": 6,
     "metadata": {},
     "output_type": "execute_result"
    }
   ],
   "execution_count": 6
  },
  {
   "metadata": {
    "ExecuteTime": {
     "end_time": "2025-05-04T01:31:37.463560Z",
     "start_time": "2025-05-04T01:31:37.457316Z"
    }
   },
   "cell_type": "code",
   "source": "books[\"description\"][0]",
   "id": "9bea5b3510e971b",
   "outputs": [
    {
     "data": {
      "text/plain": [
       "'A NOVEL THAT READERS and critics have been eagerly anticipating for over a decade, Gilead is an astonishingly imagined story of remarkable lives. John Ames is a preacher, the son of a preacher and the grandson (both maternal and paternal) of preachers. It’s 1956 in Gilead, Iowa, towards the end of the Reverend Ames’s life, and he is absorbed in recording his family’s story, a legacy for the young son he will never see grow up. Haunted by his grandfather’s presence, John tells of the rift between his grandfather and his father: the elder, an angry visionary who fought for the abolitionist cause, and his son, an ardent pacifist. He is troubled, too, by his prodigal namesake, Jack (John Ames) Boughton, his best friend’s lost son who returns to Gilead searching for forgiveness and redemption. Told in John Ames’s joyous, rambling voice that finds beauty, humour and truth in the smallest of life’s details, Gilead is a song of celebration and acceptance of the best and the worst the world has to offer. At its heart is a tale of the sacred bonds between fathers and sons, pitch-perfect in style and story, set to dazzle critics and readers alike.'"
      ]
     },
     "execution_count": 7,
     "metadata": {},
     "output_type": "execute_result"
    }
   ],
   "execution_count": 7
  },
  {
   "metadata": {
    "ExecuteTime": {
     "end_time": "2025-05-04T01:33:01.165831Z",
     "start_time": "2025-05-04T01:33:00.247800Z"
    }
   },
   "cell_type": "code",
   "source": "classifier(books[\"description\"][0])",
   "id": "b4e74248f3ca4ceb",
   "outputs": [
    {
     "data": {
      "text/plain": [
       "[[{'label': 'fear', 'score': 0.6548411250114441},\n",
       "  {'label': 'neutral', 'score': 0.16985182464122772},\n",
       "  {'label': 'sadness', 'score': 0.1164092868566513},\n",
       "  {'label': 'surprise', 'score': 0.02070065401494503},\n",
       "  {'label': 'disgust', 'score': 0.019100768491625786},\n",
       "  {'label': 'joy', 'score': 0.015161257237195969},\n",
       "  {'label': 'anger', 'score': 0.00393515732139349}]]"
      ]
     },
     "execution_count": 8,
     "metadata": {},
     "output_type": "execute_result"
    }
   ],
   "execution_count": 8
  },
  {
   "metadata": {
    "ExecuteTime": {
     "end_time": "2025-05-04T01:34:10.287254Z",
     "start_time": "2025-05-04T01:34:04.820885Z"
    }
   },
   "cell_type": "code",
   "source": "  classifier(books[\"description\"][0].split(\".\"))",
   "id": "dfe852bcb2ef14e4",
   "outputs": [
    {
     "data": {
      "text/plain": [
       "[[{'label': 'surprise', 'score': 0.7296029329299927},\n",
       "  {'label': 'neutral', 'score': 0.14038550853729248},\n",
       "  {'label': 'fear', 'score': 0.06816217303276062},\n",
       "  {'label': 'joy', 'score': 0.04794248566031456},\n",
       "  {'label': 'anger', 'score': 0.009156341664493084},\n",
       "  {'label': 'disgust', 'score': 0.0026284747291356325},\n",
       "  {'label': 'sadness', 'score': 0.0021221621427685022}],\n",
       " [{'label': 'neutral', 'score': 0.449371874332428},\n",
       "  {'label': 'disgust', 'score': 0.2735908329486847},\n",
       "  {'label': 'joy', 'score': 0.10908269137144089},\n",
       "  {'label': 'sadness', 'score': 0.09362723678350449},\n",
       "  {'label': 'anger', 'score': 0.040478210896253586},\n",
       "  {'label': 'surprise', 'score': 0.026970140635967255},\n",
       "  {'label': 'fear', 'score': 0.006879065185785294}],\n",
       " [{'label': 'neutral', 'score': 0.6462149024009705},\n",
       "  {'label': 'sadness', 'score': 0.24273455142974854},\n",
       "  {'label': 'disgust', 'score': 0.043422624468803406},\n",
       "  {'label': 'surprise', 'score': 0.028300490230321884},\n",
       "  {'label': 'joy', 'score': 0.014211437664926052},\n",
       "  {'label': 'fear', 'score': 0.014084099791944027},\n",
       "  {'label': 'anger', 'score': 0.011031878180801868}],\n",
       " [{'label': 'fear', 'score': 0.9281688332557678},\n",
       "  {'label': 'anger', 'score': 0.032190486788749695},\n",
       "  {'label': 'neutral', 'score': 0.012808619067072868},\n",
       "  {'label': 'sadness', 'score': 0.00875682570040226},\n",
       "  {'label': 'surprise', 'score': 0.008597852662205696},\n",
       "  {'label': 'disgust', 'score': 0.00843176431953907},\n",
       "  {'label': 'joy', 'score': 0.0010455785086378455}],\n",
       " [{'label': 'sadness', 'score': 0.9671575427055359},\n",
       "  {'label': 'neutral', 'score': 0.015104164369404316},\n",
       "  {'label': 'disgust', 'score': 0.006480592768639326},\n",
       "  {'label': 'fear', 'score': 0.005394003354012966},\n",
       "  {'label': 'surprise', 'score': 0.0022869419772177935},\n",
       "  {'label': 'anger', 'score': 0.0018428885377943516},\n",
       "  {'label': 'joy', 'score': 0.0017338780453428626}],\n",
       " [{'label': 'joy', 'score': 0.9327980279922485},\n",
       "  {'label': 'disgust', 'score': 0.0377170667052269},\n",
       "  {'label': 'neutral', 'score': 0.01589185558259487},\n",
       "  {'label': 'sadness', 'score': 0.006444493308663368},\n",
       "  {'label': 'anger', 'score': 0.0050249723717570305},\n",
       "  {'label': 'surprise', 'score': 0.001581206452101469},\n",
       "  {'label': 'fear', 'score': 0.0005423063994385302}],\n",
       " [{'label': 'joy', 'score': 0.6528698205947876},\n",
       "  {'label': 'neutral', 'score': 0.2542753517627716},\n",
       "  {'label': 'surprise', 'score': 0.06808321177959442},\n",
       "  {'label': 'sadness', 'score': 0.009909017942845821},\n",
       "  {'label': 'disgust', 'score': 0.006512222345918417},\n",
       "  {'label': 'anger', 'score': 0.004821320064365864},\n",
       "  {'label': 'fear', 'score': 0.0035290271043777466}],\n",
       " [{'label': 'neutral', 'score': 0.5494771003723145},\n",
       "  {'label': 'sadness', 'score': 0.11169014871120453},\n",
       "  {'label': 'disgust', 'score': 0.10400662571191788},\n",
       "  {'label': 'surprise', 'score': 0.07876543700695038},\n",
       "  {'label': 'anger', 'score': 0.06413356214761734},\n",
       "  {'label': 'fear', 'score': 0.05136275663971901},\n",
       "  {'label': 'joy', 'score': 0.040564361959695816}]]"
      ]
     },
     "execution_count": 9,
     "metadata": {},
     "output_type": "execute_result"
    }
   ],
   "execution_count": 9
  },
  {
   "metadata": {
    "ExecuteTime": {
     "end_time": "2025-05-04T01:35:38.056205Z",
     "start_time": "2025-05-04T01:35:37.626391Z"
    }
   },
   "cell_type": "code",
   "source": [
    "sentences = books[\"description\"][0].split(\".\")\n",
    "predictions = classifier(sentences)"
   ],
   "id": "642f8926f3dca04e",
   "outputs": [],
   "execution_count": 10
  },
  {
   "metadata": {
    "ExecuteTime": {
     "end_time": "2025-05-04T01:35:49.333518Z",
     "start_time": "2025-05-04T01:35:49.328384Z"
    }
   },
   "cell_type": "code",
   "source": " sentences[0]",
   "id": "297d8110148584a5",
   "outputs": [
    {
     "data": {
      "text/plain": [
       "'A NOVEL THAT READERS and critics have been eagerly anticipating for over a decade, Gilead is an astonishingly imagined story of remarkable lives'"
      ]
     },
     "execution_count": 11,
     "metadata": {},
     "output_type": "execute_result"
    }
   ],
   "execution_count": 11
  },
  {
   "metadata": {
    "ExecuteTime": {
     "end_time": "2025-05-04T01:35:59.402125Z",
     "start_time": "2025-05-04T01:35:59.397543Z"
    }
   },
   "cell_type": "code",
   "source": "predictions[0]",
   "id": "b74d683122d65e76",
   "outputs": [
    {
     "data": {
      "text/plain": [
       "[{'label': 'surprise', 'score': 0.7296029329299927},\n",
       " {'label': 'neutral', 'score': 0.14038550853729248},\n",
       " {'label': 'fear', 'score': 0.06816217303276062},\n",
       " {'label': 'joy', 'score': 0.04794248566031456},\n",
       " {'label': 'anger', 'score': 0.009156341664493084},\n",
       " {'label': 'disgust', 'score': 0.0026284747291356325},\n",
       " {'label': 'sadness', 'score': 0.0021221621427685022}]"
      ]
     },
     "execution_count": 12,
     "metadata": {},
     "output_type": "execute_result"
    }
   ],
   "execution_count": 12
  },
  {
   "metadata": {
    "ExecuteTime": {
     "end_time": "2025-05-04T01:36:23.948149Z",
     "start_time": "2025-05-04T01:36:23.943951Z"
    }
   },
   "cell_type": "code",
   "source": "sentences[3]",
   "id": "2aa76d477f7a0f80",
   "outputs": [
    {
     "data": {
      "text/plain": [
       "' Haunted by his grandfather’s presence, John tells of the rift between his grandfather and his father: the elder, an angry visionary who fought for the abolitionist cause, and his son, an ardent pacifist'"
      ]
     },
     "execution_count": 13,
     "metadata": {},
     "output_type": "execute_result"
    }
   ],
   "execution_count": 13
  },
  {
   "metadata": {
    "ExecuteTime": {
     "end_time": "2025-05-04T01:36:35.835389Z",
     "start_time": "2025-05-04T01:36:35.830948Z"
    }
   },
   "cell_type": "code",
   "source": " predictions[3]",
   "id": "cedf28d11cf5e998",
   "outputs": [
    {
     "data": {
      "text/plain": [
       "[{'label': 'fear', 'score': 0.9281688332557678},\n",
       " {'label': 'anger', 'score': 0.032190486788749695},\n",
       " {'label': 'neutral', 'score': 0.012808619067072868},\n",
       " {'label': 'sadness', 'score': 0.00875682570040226},\n",
       " {'label': 'surprise', 'score': 0.008597852662205696},\n",
       " {'label': 'disgust', 'score': 0.00843176431953907},\n",
       " {'label': 'joy', 'score': 0.0010455785086378455}]"
      ]
     },
     "execution_count": 14,
     "metadata": {},
     "output_type": "execute_result"
    }
   ],
   "execution_count": 14
  },
  {
   "metadata": {
    "ExecuteTime": {
     "end_time": "2025-05-04T01:38:09.770083Z",
     "start_time": "2025-05-04T01:38:09.755731Z"
    }
   },
   "cell_type": "code",
   "source": "predictions",
   "id": "853724413f27c4e1",
   "outputs": [
    {
     "data": {
      "text/plain": [
       "[[{'label': 'surprise', 'score': 0.7296029329299927},\n",
       "  {'label': 'neutral', 'score': 0.14038550853729248},\n",
       "  {'label': 'fear', 'score': 0.06816217303276062},\n",
       "  {'label': 'joy', 'score': 0.04794248566031456},\n",
       "  {'label': 'anger', 'score': 0.009156341664493084},\n",
       "  {'label': 'disgust', 'score': 0.0026284747291356325},\n",
       "  {'label': 'sadness', 'score': 0.0021221621427685022}],\n",
       " [{'label': 'neutral', 'score': 0.449371874332428},\n",
       "  {'label': 'disgust', 'score': 0.2735908329486847},\n",
       "  {'label': 'joy', 'score': 0.10908269137144089},\n",
       "  {'label': 'sadness', 'score': 0.09362723678350449},\n",
       "  {'label': 'anger', 'score': 0.040478210896253586},\n",
       "  {'label': 'surprise', 'score': 0.026970140635967255},\n",
       "  {'label': 'fear', 'score': 0.006879065185785294}],\n",
       " [{'label': 'neutral', 'score': 0.6462149024009705},\n",
       "  {'label': 'sadness', 'score': 0.24273455142974854},\n",
       "  {'label': 'disgust', 'score': 0.043422624468803406},\n",
       "  {'label': 'surprise', 'score': 0.028300490230321884},\n",
       "  {'label': 'joy', 'score': 0.014211437664926052},\n",
       "  {'label': 'fear', 'score': 0.014084099791944027},\n",
       "  {'label': 'anger', 'score': 0.011031878180801868}],\n",
       " [{'label': 'fear', 'score': 0.9281688332557678},\n",
       "  {'label': 'anger', 'score': 0.032190486788749695},\n",
       "  {'label': 'neutral', 'score': 0.012808619067072868},\n",
       "  {'label': 'sadness', 'score': 0.00875682570040226},\n",
       "  {'label': 'surprise', 'score': 0.008597852662205696},\n",
       "  {'label': 'disgust', 'score': 0.00843176431953907},\n",
       "  {'label': 'joy', 'score': 0.0010455785086378455}],\n",
       " [{'label': 'sadness', 'score': 0.9671575427055359},\n",
       "  {'label': 'neutral', 'score': 0.015104164369404316},\n",
       "  {'label': 'disgust', 'score': 0.006480592768639326},\n",
       "  {'label': 'fear', 'score': 0.005394003354012966},\n",
       "  {'label': 'surprise', 'score': 0.0022869419772177935},\n",
       "  {'label': 'anger', 'score': 0.0018428885377943516},\n",
       "  {'label': 'joy', 'score': 0.0017338780453428626}],\n",
       " [{'label': 'joy', 'score': 0.9327980279922485},\n",
       "  {'label': 'disgust', 'score': 0.0377170667052269},\n",
       "  {'label': 'neutral', 'score': 0.01589185558259487},\n",
       "  {'label': 'sadness', 'score': 0.006444493308663368},\n",
       "  {'label': 'anger', 'score': 0.0050249723717570305},\n",
       "  {'label': 'surprise', 'score': 0.001581206452101469},\n",
       "  {'label': 'fear', 'score': 0.0005423063994385302}],\n",
       " [{'label': 'joy', 'score': 0.6528698205947876},\n",
       "  {'label': 'neutral', 'score': 0.2542753517627716},\n",
       "  {'label': 'surprise', 'score': 0.06808321177959442},\n",
       "  {'label': 'sadness', 'score': 0.009909017942845821},\n",
       "  {'label': 'disgust', 'score': 0.006512222345918417},\n",
       "  {'label': 'anger', 'score': 0.004821320064365864},\n",
       "  {'label': 'fear', 'score': 0.0035290271043777466}],\n",
       " [{'label': 'neutral', 'score': 0.5494771003723145},\n",
       "  {'label': 'sadness', 'score': 0.11169014871120453},\n",
       "  {'label': 'disgust', 'score': 0.10400662571191788},\n",
       "  {'label': 'surprise', 'score': 0.07876543700695038},\n",
       "  {'label': 'anger', 'score': 0.06413356214761734},\n",
       "  {'label': 'fear', 'score': 0.05136275663971901},\n",
       "  {'label': 'joy', 'score': 0.040564361959695816}]]"
      ]
     },
     "execution_count": 15,
     "metadata": {},
     "output_type": "execute_result"
    }
   ],
   "execution_count": 15
  },
  {
   "metadata": {
    "ExecuteTime": {
     "end_time": "2025-05-04T01:38:42.581527Z",
     "start_time": "2025-05-04T01:38:42.577243Z"
    }
   },
   "cell_type": "code",
   "source": "sorted(predictions[0], key=lambda x: x[\"label\"])\n",
   "id": "f0d1f0ac4985fbb2",
   "outputs": [
    {
     "data": {
      "text/plain": [
       "[{'label': 'anger', 'score': 0.009156341664493084},\n",
       " {'label': 'disgust', 'score': 0.0026284747291356325},\n",
       " {'label': 'fear', 'score': 0.06816217303276062},\n",
       " {'label': 'joy', 'score': 0.04794248566031456},\n",
       " {'label': 'neutral', 'score': 0.14038550853729248},\n",
       " {'label': 'sadness', 'score': 0.0021221621427685022},\n",
       " {'label': 'surprise', 'score': 0.7296029329299927}]"
      ]
     },
     "execution_count": 16,
     "metadata": {},
     "output_type": "execute_result"
    }
   ],
   "execution_count": 16
  },
  {
   "metadata": {
    "ExecuteTime": {
     "end_time": "2025-05-04T01:41:20.892603Z",
     "start_time": "2025-05-04T01:41:20.884960Z"
    }
   },
   "cell_type": "code",
   "source": [
    "import numpy as np\n",
    "\n",
    "emotion_labels = [\"anger\", \"disgust\", \"fear\", \"joy\", \"sadness\", \"surprise\", \"neutral\"]\n",
    "isbn = []\n",
    "emotion_scores = {label: [] for label in emotion_labels}\n",
    "\n",
    "def calculate_max_emotion_scores(predictions):\n",
    "    per_emotion_scores = {label: [] for label in emotion_labels}\n",
    "    for prediction in predictions:\n",
    "        sorted_predictions = sorted(prediction, key=lambda x: x[\"label\"])\n",
    "        for index, label in enumerate(emotion_labels):\n",
    "            per_emotion_scores[label].append(sorted_predictions[index][\"score\"])\n",
    "    return {label: np.max(scores) for label, scores in per_emotion_scores.items()}"
   ],
   "id": "866ff60e80ca5dc8",
   "outputs": [],
   "execution_count": 17
  },
  {
   "metadata": {
    "ExecuteTime": {
     "end_time": "2025-05-04T01:41:47.166836Z",
     "start_time": "2025-05-04T01:41:30.456654Z"
    }
   },
   "cell_type": "code",
   "source": [
    "for i in range(10):\n",
    "    isbn.append(books[\"isbn13\"][i])\n",
    "    sentences = books[\"description\"][i].split(\".\")\n",
    "    predictions = classifier(sentences)\n",
    "    max_scores = calculate_max_emotion_scores(predictions)\n",
    "    for label in emotion_labels:\n",
    "        emotion_scores[label].append(max_scores[label])"
   ],
   "id": "7e8342d6f50b2fa9",
   "outputs": [],
   "execution_count": 18
  },
  {
   "metadata": {
    "ExecuteTime": {
     "end_time": "2025-05-04T01:41:58.260454Z",
     "start_time": "2025-05-04T01:41:58.253972Z"
    }
   },
   "cell_type": "code",
   "source": "emotion_scores\n",
   "id": "ff8115df603b4b5d",
   "outputs": [
    {
     "data": {
      "text/plain": [
       "{'anger': [np.float64(0.06413356214761734),\n",
       "  np.float64(0.6126182675361633),\n",
       "  np.float64(0.06413356214761734),\n",
       "  np.float64(0.3514830768108368),\n",
       "  np.float64(0.08141245692968369),\n",
       "  np.float64(0.23222514986991882),\n",
       "  np.float64(0.5381839275360107),\n",
       "  np.float64(0.06413356214761734),\n",
       "  np.float64(0.3006702661514282),\n",
       "  np.float64(0.06413356214761734)],\n",
       " 'disgust': [np.float64(0.2735908329486847),\n",
       "  np.float64(0.3482856750488281),\n",
       "  np.float64(0.10400662571191788),\n",
       "  np.float64(0.15072253346443176),\n",
       "  np.float64(0.18449492752552032),\n",
       "  np.float64(0.7271745800971985),\n",
       "  np.float64(0.15585504472255707),\n",
       "  np.float64(0.10400662571191788),\n",
       "  np.float64(0.2794816493988037),\n",
       "  np.float64(0.17792700231075287)],\n",
       " 'fear': [np.float64(0.9281688332557678),\n",
       "  np.float64(0.942527711391449),\n",
       "  np.float64(0.9723208546638489),\n",
       "  np.float64(0.36070695519447327),\n",
       "  np.float64(0.0950433611869812),\n",
       "  np.float64(0.05136275663971901),\n",
       "  np.float64(0.7474279999732971),\n",
       "  np.float64(0.4044959247112274),\n",
       "  np.float64(0.9155241250991821),\n",
       "  np.float64(0.05136275663971901)],\n",
       " 'joy': [np.float64(0.9327980279922485),\n",
       "  np.float64(0.7044212818145752),\n",
       "  np.float64(0.7672377228736877),\n",
       "  np.float64(0.2518809139728546),\n",
       "  np.float64(0.040564361959695816),\n",
       "  np.float64(0.04337582737207413),\n",
       "  np.float64(0.8725652098655701),\n",
       "  np.float64(0.040564361959695816),\n",
       "  np.float64(0.040564361959695816),\n",
       "  np.float64(0.040564361959695816)],\n",
       " 'sadness': [np.float64(0.6462149024009705),\n",
       "  np.float64(0.8879395127296448),\n",
       "  np.float64(0.5494771003723145),\n",
       "  np.float64(0.7326862215995789),\n",
       "  np.float64(0.8843892216682434),\n",
       "  np.float64(0.6213927268981934),\n",
       "  np.float64(0.7121947407722473),\n",
       "  np.float64(0.5494771003723145),\n",
       "  np.float64(0.8402895331382751),\n",
       "  np.float64(0.8603722453117371)],\n",
       " 'surprise': [np.float64(0.9671575427055359),\n",
       "  np.float64(0.11169014871120453),\n",
       "  np.float64(0.11169014871120453),\n",
       "  np.float64(0.11169014871120453),\n",
       "  np.float64(0.47588053345680237),\n",
       "  np.float64(0.11169014871120453),\n",
       "  np.float64(0.40799930691719055),\n",
       "  np.float64(0.8202824592590332),\n",
       "  np.float64(0.3544585406780243),\n",
       "  np.float64(0.11169014871120453)],\n",
       " 'neutral': [np.float64(0.7296029329299927),\n",
       "  np.float64(0.2525451183319092),\n",
       "  np.float64(0.07876543700695038),\n",
       "  np.float64(0.07876543700695038),\n",
       "  np.float64(0.07876543700695038),\n",
       "  np.float64(0.27190282940864563),\n",
       "  np.float64(0.07876543700695038),\n",
       "  np.float64(0.2344881147146225),\n",
       "  np.float64(0.13561539351940155),\n",
       "  np.float64(0.07876543700695038)]}"
      ]
     },
     "execution_count": 19,
     "metadata": {},
     "output_type": "execute_result"
    }
   ],
   "execution_count": 19
  },
  {
   "metadata": {
    "ExecuteTime": {
     "end_time": "2025-05-04T01:59:08.283283Z",
     "start_time": "2025-05-04T01:42:36.572283Z"
    }
   },
   "cell_type": "code",
   "source": [
    "from tqdm import tqdm\n",
    "\n",
    "emotion_labels = [\"anger\", \"disgust\", \"fear\", \"joy\", \"sadness\", \"surprise\", \"neutral\"]\n",
    "isbn = []\n",
    "emotion_scores = {label: [] for label in emotion_labels}\n",
    "\n",
    "for i in tqdm(range(len(books)-1)):\n",
    "    isbn.append(books[\"isbn13\"][i])\n",
    "    sentences = books[\"description\"][i].split(\".\")\n",
    "    predictions = classifier(sentences)\n",
    "    max_scores = calculate_max_emotion_scores(predictions)\n",
    "    for label in emotion_labels:\n",
    "        emotion_scores[label].append(max_scores[label])"
   ],
   "id": "dd80a7e627ef115e",
   "outputs": [
    {
     "name": "stderr",
     "output_type": "stream",
     "text": [
      "100%|██████████| 5197/5197 [16:31<00:00,  5.24it/s]\n"
     ]
    }
   ],
   "execution_count": 21
  },
  {
   "metadata": {
    "ExecuteTime": {
     "end_time": "2025-05-04T01:59:43.683022Z",
     "start_time": "2025-05-04T01:59:43.664894Z"
    }
   },
   "cell_type": "code",
   "source": [
    "emotions_df = pd.DataFrame(emotion_scores)\n",
    "emotions_df[\"isbn13\"] = isbn"
   ],
   "id": "f7a3065d74a6bc21",
   "outputs": [],
   "execution_count": 22
  },
  {
   "metadata": {
    "ExecuteTime": {
     "end_time": "2025-05-04T01:59:44.866796Z",
     "start_time": "2025-05-04T01:59:44.853711Z"
    }
   },
   "cell_type": "code",
   "source": "emotions_df\n",
   "id": "30855b1b3ee539da",
   "outputs": [
    {
     "data": {
      "text/plain": [
       "         anger   disgust      fear       joy   sadness  surprise   neutral  \\\n",
       "0     0.064134  0.273591  0.928169  0.932798  0.646215  0.967158  0.729603   \n",
       "1     0.612618  0.348286  0.942528  0.704421  0.887940  0.111690  0.252545   \n",
       "2     0.064134  0.104007  0.972321  0.767238  0.549477  0.111690  0.078765   \n",
       "3     0.351483  0.150723  0.360707  0.251881  0.732686  0.111690  0.078765   \n",
       "4     0.081412  0.184495  0.095043  0.040564  0.884389  0.475881  0.078765   \n",
       "...        ...       ...       ...       ...       ...       ...       ...   \n",
       "5192  0.148209  0.030642  0.919165  0.255169  0.853722  0.980877  0.030656   \n",
       "5193  0.064134  0.114383  0.051363  0.400263  0.883198  0.111690  0.227765   \n",
       "5194  0.009997  0.009929  0.339217  0.947779  0.375756  0.066685  0.057625   \n",
       "5195  0.064134  0.104007  0.459269  0.759456  0.951104  0.368110  0.078765   \n",
       "5196  0.064134  0.104007  0.051363  0.958549  0.915193  0.111690  0.078765   \n",
       "\n",
       "            isbn13  \n",
       "0     9.780002e+12  \n",
       "1     9.780002e+12  \n",
       "2     9.780006e+12  \n",
       "3     9.780006e+12  \n",
       "4     9.780006e+12  \n",
       "...            ...  \n",
       "5192  9.788172e+12  \n",
       "5193  9.788173e+12  \n",
       "5194  9.788180e+12  \n",
       "5195  9.788185e+12  \n",
       "5196  9.789028e+12  \n",
       "\n",
       "[5197 rows x 8 columns]"
      ],
      "text/html": [
       "<div>\n",
       "<style scoped>\n",
       "    .dataframe tbody tr th:only-of-type {\n",
       "        vertical-align: middle;\n",
       "    }\n",
       "\n",
       "    .dataframe tbody tr th {\n",
       "        vertical-align: top;\n",
       "    }\n",
       "\n",
       "    .dataframe thead th {\n",
       "        text-align: right;\n",
       "    }\n",
       "</style>\n",
       "<table border=\"1\" class=\"dataframe\">\n",
       "  <thead>\n",
       "    <tr style=\"text-align: right;\">\n",
       "      <th></th>\n",
       "      <th>anger</th>\n",
       "      <th>disgust</th>\n",
       "      <th>fear</th>\n",
       "      <th>joy</th>\n",
       "      <th>sadness</th>\n",
       "      <th>surprise</th>\n",
       "      <th>neutral</th>\n",
       "      <th>isbn13</th>\n",
       "    </tr>\n",
       "  </thead>\n",
       "  <tbody>\n",
       "    <tr>\n",
       "      <th>0</th>\n",
       "      <td>0.064134</td>\n",
       "      <td>0.273591</td>\n",
       "      <td>0.928169</td>\n",
       "      <td>0.932798</td>\n",
       "      <td>0.646215</td>\n",
       "      <td>0.967158</td>\n",
       "      <td>0.729603</td>\n",
       "      <td>9.780002e+12</td>\n",
       "    </tr>\n",
       "    <tr>\n",
       "      <th>1</th>\n",
       "      <td>0.612618</td>\n",
       "      <td>0.348286</td>\n",
       "      <td>0.942528</td>\n",
       "      <td>0.704421</td>\n",
       "      <td>0.887940</td>\n",
       "      <td>0.111690</td>\n",
       "      <td>0.252545</td>\n",
       "      <td>9.780002e+12</td>\n",
       "    </tr>\n",
       "    <tr>\n",
       "      <th>2</th>\n",
       "      <td>0.064134</td>\n",
       "      <td>0.104007</td>\n",
       "      <td>0.972321</td>\n",
       "      <td>0.767238</td>\n",
       "      <td>0.549477</td>\n",
       "      <td>0.111690</td>\n",
       "      <td>0.078765</td>\n",
       "      <td>9.780006e+12</td>\n",
       "    </tr>\n",
       "    <tr>\n",
       "      <th>3</th>\n",
       "      <td>0.351483</td>\n",
       "      <td>0.150723</td>\n",
       "      <td>0.360707</td>\n",
       "      <td>0.251881</td>\n",
       "      <td>0.732686</td>\n",
       "      <td>0.111690</td>\n",
       "      <td>0.078765</td>\n",
       "      <td>9.780006e+12</td>\n",
       "    </tr>\n",
       "    <tr>\n",
       "      <th>4</th>\n",
       "      <td>0.081412</td>\n",
       "      <td>0.184495</td>\n",
       "      <td>0.095043</td>\n",
       "      <td>0.040564</td>\n",
       "      <td>0.884389</td>\n",
       "      <td>0.475881</td>\n",
       "      <td>0.078765</td>\n",
       "      <td>9.780006e+12</td>\n",
       "    </tr>\n",
       "    <tr>\n",
       "      <th>...</th>\n",
       "      <td>...</td>\n",
       "      <td>...</td>\n",
       "      <td>...</td>\n",
       "      <td>...</td>\n",
       "      <td>...</td>\n",
       "      <td>...</td>\n",
       "      <td>...</td>\n",
       "      <td>...</td>\n",
       "    </tr>\n",
       "    <tr>\n",
       "      <th>5192</th>\n",
       "      <td>0.148209</td>\n",
       "      <td>0.030642</td>\n",
       "      <td>0.919165</td>\n",
       "      <td>0.255169</td>\n",
       "      <td>0.853722</td>\n",
       "      <td>0.980877</td>\n",
       "      <td>0.030656</td>\n",
       "      <td>9.788172e+12</td>\n",
       "    </tr>\n",
       "    <tr>\n",
       "      <th>5193</th>\n",
       "      <td>0.064134</td>\n",
       "      <td>0.114383</td>\n",
       "      <td>0.051363</td>\n",
       "      <td>0.400263</td>\n",
       "      <td>0.883198</td>\n",
       "      <td>0.111690</td>\n",
       "      <td>0.227765</td>\n",
       "      <td>9.788173e+12</td>\n",
       "    </tr>\n",
       "    <tr>\n",
       "      <th>5194</th>\n",
       "      <td>0.009997</td>\n",
       "      <td>0.009929</td>\n",
       "      <td>0.339217</td>\n",
       "      <td>0.947779</td>\n",
       "      <td>0.375756</td>\n",
       "      <td>0.066685</td>\n",
       "      <td>0.057625</td>\n",
       "      <td>9.788180e+12</td>\n",
       "    </tr>\n",
       "    <tr>\n",
       "      <th>5195</th>\n",
       "      <td>0.064134</td>\n",
       "      <td>0.104007</td>\n",
       "      <td>0.459269</td>\n",
       "      <td>0.759456</td>\n",
       "      <td>0.951104</td>\n",
       "      <td>0.368110</td>\n",
       "      <td>0.078765</td>\n",
       "      <td>9.788185e+12</td>\n",
       "    </tr>\n",
       "    <tr>\n",
       "      <th>5196</th>\n",
       "      <td>0.064134</td>\n",
       "      <td>0.104007</td>\n",
       "      <td>0.051363</td>\n",
       "      <td>0.958549</td>\n",
       "      <td>0.915193</td>\n",
       "      <td>0.111690</td>\n",
       "      <td>0.078765</td>\n",
       "      <td>9.789028e+12</td>\n",
       "    </tr>\n",
       "  </tbody>\n",
       "</table>\n",
       "<p>5197 rows × 8 columns</p>\n",
       "</div>"
      ]
     },
     "execution_count": 23,
     "metadata": {},
     "output_type": "execute_result"
    }
   ],
   "execution_count": 23
  },
  {
   "metadata": {
    "ExecuteTime": {
     "end_time": "2025-05-04T01:59:54.003713Z",
     "start_time": "2025-05-04T01:59:53.985235Z"
    }
   },
   "cell_type": "code",
   "source": "books = pd.merge(books, emotions_df, on = \"isbn13\")\n",
   "id": "1ee79f32011026e4",
   "outputs": [],
   "execution_count": 24
  },
  {
   "metadata": {
    "ExecuteTime": {
     "end_time": "2025-05-04T01:59:58.881742Z",
     "start_time": "2025-05-04T01:59:58.862746Z"
    }
   },
   "cell_type": "code",
   "source": "books",
   "id": "49ce089b20033bd5",
   "outputs": [
    {
     "data": {
      "text/plain": [
       "            isbn13      isbn10  \\\n",
       "0     9.780002e+12  0002005883   \n",
       "1     9.780002e+12  0002261987   \n",
       "2     9.780006e+12  0006178731   \n",
       "3     9.780006e+12  0006280897   \n",
       "4     9.780006e+12  0006280935   \n",
       "...            ...         ...   \n",
       "5192  9.788172e+12  8172235224   \n",
       "5193  9.788173e+12  8173031010   \n",
       "5194  9.788180e+12  817992162X   \n",
       "5195  9.788185e+12  8185300534   \n",
       "5196  9.789028e+12  9027712050   \n",
       "\n",
       "                                                  title  \\\n",
       "0                                                Gilead   \n",
       "1                                          Spider's Web   \n",
       "2                                        Rage of angels   \n",
       "3                                        The Four Loves   \n",
       "4                                   The Problem of Pain   \n",
       "...                                                 ...   \n",
       "5192                                  Mistaken Identity   \n",
       "5193                                Journey to the East   \n",
       "5194  The Monk Who Sold His Ferrari: A Fable About F...   \n",
       "5195                                          I Am that   \n",
       "5196                           The Berlin Phenomenology   \n",
       "\n",
       "                                           authors  \\\n",
       "0                               Marilynne Robinson   \n",
       "1                  Charles Osborne;Agatha Christie   \n",
       "2                                   Sidney Sheldon   \n",
       "3                              Clive Staples Lewis   \n",
       "4                              Clive Staples Lewis   \n",
       "...                                            ...   \n",
       "5192                              Nayantara Sahgal   \n",
       "5193                                 Hermann Hesse   \n",
       "5194                                  Robin Sharma   \n",
       "5195  Sri Nisargadatta Maharaj;Sudhakar S. Dikshit   \n",
       "5196                 Georg Wilhelm Friedrich Hegel   \n",
       "\n",
       "                         categories  \\\n",
       "0                           Fiction   \n",
       "1     Detective and mystery stories   \n",
       "2                           Fiction   \n",
       "3                    Christian life   \n",
       "4                    Christian life   \n",
       "...                             ...   \n",
       "5192        Indic fiction (English)   \n",
       "5193              Adventure stories   \n",
       "5194               Health & Fitness   \n",
       "5195                     Philosophy   \n",
       "5196                        History   \n",
       "\n",
       "                                              thumbnail  \\\n",
       "0     http://books.google.com/books/content?id=KQZCP...   \n",
       "1     http://books.google.com/books/content?id=gA5GP...   \n",
       "2     http://books.google.com/books/content?id=FKo2T...   \n",
       "3     http://books.google.com/books/content?id=XhQ5X...   \n",
       "4     http://books.google.com/books/content?id=Kk-uV...   \n",
       "...                                                 ...   \n",
       "5192  http://books.google.com/books/content?id=q-tKP...   \n",
       "5193  http://books.google.com/books/content?id=rq6JP...   \n",
       "5194  http://books.google.com/books/content?id=c_7mf...   \n",
       "5195  http://books.google.com/books/content?id=Fv_JP...   \n",
       "5196  http://books.google.com/books/content?id=Vy7Sk...   \n",
       "\n",
       "                                            description  published_year  \\\n",
       "0     A NOVEL THAT READERS and critics have been eag...          2004.0   \n",
       "1     A new 'Christie for Christmas' -- a full-lengt...          2000.0   \n",
       "2     A memorable, mesmerizing heroine Jennifer -- b...          1993.0   \n",
       "3     Lewis' work on the nature of love divides love...          2002.0   \n",
       "4     \"In The Problem of Pain, C.S. Lewis, one of th...          2002.0   \n",
       "...                                                 ...             ...   \n",
       "5192  On A Train Journey Home To North India After L...          2003.0   \n",
       "5193  This book tells the tale of a man who goes on ...          2002.0   \n",
       "5194  Wisdom to Create a Life of Passion, Purpose, a...          2003.0   \n",
       "5195  This collection of the timeless teachings of o...          1999.0   \n",
       "5196  Since the three volume edition ofHegel's Philo...          1981.0   \n",
       "\n",
       "      average_rating  num_pages  ...  \\\n",
       "0               3.85      247.0  ...   \n",
       "1               3.83      241.0  ...   \n",
       "2               3.93      512.0  ...   \n",
       "3               4.15      170.0  ...   \n",
       "4               4.09      176.0  ...   \n",
       "...              ...        ...  ...   \n",
       "5192            2.93      324.0  ...   \n",
       "5193            3.70      175.0  ...   \n",
       "5194            3.82      198.0  ...   \n",
       "5195            4.51      531.0  ...   \n",
       "5196            0.00      210.0  ...   \n",
       "\n",
       "                                     title_and_subtitle  \\\n",
       "0                                                Gilead   \n",
       "1                                 Spider's Web: A Novel   \n",
       "2                                        Rage of angels   \n",
       "3                                        The Four Loves   \n",
       "4                                   The Problem of Pain   \n",
       "...                                                 ...   \n",
       "5192                                  Mistaken Identity   \n",
       "5193                                Journey to the East   \n",
       "5194  The Monk Who Sold His Ferrari: A Fable About F...   \n",
       "5195     I Am that: Talks with Sri Nisargadatta Maharaj   \n",
       "5196                           The Berlin Phenomenology   \n",
       "\n",
       "                                     tagged_description simple_categories  \\\n",
       "0     9780002005883 A NOVEL THAT READERS and critics...           Fiction   \n",
       "1     9780002261982 A new 'Christie for Christmas' -...           Fiction   \n",
       "2     9780006178736 A memorable, mesmerizing heroine...           Fiction   \n",
       "3     9780006280897 Lewis' work on the nature of lov...        Nonfiction   \n",
       "4     9780006280934 \"In The Problem of Pain, C.S. Le...        Nonfiction   \n",
       "...                                                 ...               ...   \n",
       "5192  9788172235222 On A Train Journey Home To North...           Fiction   \n",
       "5193  9788173031014 This book tells the tale of a ma...        Nonfiction   \n",
       "5194  9788179921623 Wisdom to Create a Life of Passi...           Fiction   \n",
       "5195  9788185300535 This collection of the timeless ...        Nonfiction   \n",
       "5196  9789027712059 Since the three volume edition o...        Nonfiction   \n",
       "\n",
       "         anger   disgust      fear       joy   sadness  surprise   neutral  \n",
       "0     0.064134  0.273591  0.928169  0.932798  0.646215  0.967158  0.729603  \n",
       "1     0.612618  0.348286  0.942528  0.704421  0.887940  0.111690  0.252545  \n",
       "2     0.064134  0.104007  0.972321  0.767238  0.549477  0.111690  0.078765  \n",
       "3     0.351483  0.150723  0.360707  0.251881  0.732686  0.111690  0.078765  \n",
       "4     0.081412  0.184495  0.095043  0.040564  0.884389  0.475881  0.078765  \n",
       "...        ...       ...       ...       ...       ...       ...       ...  \n",
       "5192  0.148209  0.030642  0.919165  0.255169  0.853722  0.980877  0.030656  \n",
       "5193  0.064134  0.114383  0.051363  0.400263  0.883198  0.111690  0.227765  \n",
       "5194  0.009997  0.009929  0.339217  0.947779  0.375756  0.066685  0.057625  \n",
       "5195  0.064134  0.104007  0.459269  0.759456  0.951104  0.368110  0.078765  \n",
       "5196  0.064134  0.104007  0.051363  0.958549  0.915193  0.111690  0.078765  \n",
       "\n",
       "[5197 rows x 22 columns]"
      ],
      "text/html": [
       "<div>\n",
       "<style scoped>\n",
       "    .dataframe tbody tr th:only-of-type {\n",
       "        vertical-align: middle;\n",
       "    }\n",
       "\n",
       "    .dataframe tbody tr th {\n",
       "        vertical-align: top;\n",
       "    }\n",
       "\n",
       "    .dataframe thead th {\n",
       "        text-align: right;\n",
       "    }\n",
       "</style>\n",
       "<table border=\"1\" class=\"dataframe\">\n",
       "  <thead>\n",
       "    <tr style=\"text-align: right;\">\n",
       "      <th></th>\n",
       "      <th>isbn13</th>\n",
       "      <th>isbn10</th>\n",
       "      <th>title</th>\n",
       "      <th>authors</th>\n",
       "      <th>categories</th>\n",
       "      <th>thumbnail</th>\n",
       "      <th>description</th>\n",
       "      <th>published_year</th>\n",
       "      <th>average_rating</th>\n",
       "      <th>num_pages</th>\n",
       "      <th>...</th>\n",
       "      <th>title_and_subtitle</th>\n",
       "      <th>tagged_description</th>\n",
       "      <th>simple_categories</th>\n",
       "      <th>anger</th>\n",
       "      <th>disgust</th>\n",
       "      <th>fear</th>\n",
       "      <th>joy</th>\n",
       "      <th>sadness</th>\n",
       "      <th>surprise</th>\n",
       "      <th>neutral</th>\n",
       "    </tr>\n",
       "  </thead>\n",
       "  <tbody>\n",
       "    <tr>\n",
       "      <th>0</th>\n",
       "      <td>9.780002e+12</td>\n",
       "      <td>0002005883</td>\n",
       "      <td>Gilead</td>\n",
       "      <td>Marilynne Robinson</td>\n",
       "      <td>Fiction</td>\n",
       "      <td>http://books.google.com/books/content?id=KQZCP...</td>\n",
       "      <td>A NOVEL THAT READERS and critics have been eag...</td>\n",
       "      <td>2004.0</td>\n",
       "      <td>3.85</td>\n",
       "      <td>247.0</td>\n",
       "      <td>...</td>\n",
       "      <td>Gilead</td>\n",
       "      <td>9780002005883 A NOVEL THAT READERS and critics...</td>\n",
       "      <td>Fiction</td>\n",
       "      <td>0.064134</td>\n",
       "      <td>0.273591</td>\n",
       "      <td>0.928169</td>\n",
       "      <td>0.932798</td>\n",
       "      <td>0.646215</td>\n",
       "      <td>0.967158</td>\n",
       "      <td>0.729603</td>\n",
       "    </tr>\n",
       "    <tr>\n",
       "      <th>1</th>\n",
       "      <td>9.780002e+12</td>\n",
       "      <td>0002261987</td>\n",
       "      <td>Spider's Web</td>\n",
       "      <td>Charles Osborne;Agatha Christie</td>\n",
       "      <td>Detective and mystery stories</td>\n",
       "      <td>http://books.google.com/books/content?id=gA5GP...</td>\n",
       "      <td>A new 'Christie for Christmas' -- a full-lengt...</td>\n",
       "      <td>2000.0</td>\n",
       "      <td>3.83</td>\n",
       "      <td>241.0</td>\n",
       "      <td>...</td>\n",
       "      <td>Spider's Web: A Novel</td>\n",
       "      <td>9780002261982 A new 'Christie for Christmas' -...</td>\n",
       "      <td>Fiction</td>\n",
       "      <td>0.612618</td>\n",
       "      <td>0.348286</td>\n",
       "      <td>0.942528</td>\n",
       "      <td>0.704421</td>\n",
       "      <td>0.887940</td>\n",
       "      <td>0.111690</td>\n",
       "      <td>0.252545</td>\n",
       "    </tr>\n",
       "    <tr>\n",
       "      <th>2</th>\n",
       "      <td>9.780006e+12</td>\n",
       "      <td>0006178731</td>\n",
       "      <td>Rage of angels</td>\n",
       "      <td>Sidney Sheldon</td>\n",
       "      <td>Fiction</td>\n",
       "      <td>http://books.google.com/books/content?id=FKo2T...</td>\n",
       "      <td>A memorable, mesmerizing heroine Jennifer -- b...</td>\n",
       "      <td>1993.0</td>\n",
       "      <td>3.93</td>\n",
       "      <td>512.0</td>\n",
       "      <td>...</td>\n",
       "      <td>Rage of angels</td>\n",
       "      <td>9780006178736 A memorable, mesmerizing heroine...</td>\n",
       "      <td>Fiction</td>\n",
       "      <td>0.064134</td>\n",
       "      <td>0.104007</td>\n",
       "      <td>0.972321</td>\n",
       "      <td>0.767238</td>\n",
       "      <td>0.549477</td>\n",
       "      <td>0.111690</td>\n",
       "      <td>0.078765</td>\n",
       "    </tr>\n",
       "    <tr>\n",
       "      <th>3</th>\n",
       "      <td>9.780006e+12</td>\n",
       "      <td>0006280897</td>\n",
       "      <td>The Four Loves</td>\n",
       "      <td>Clive Staples Lewis</td>\n",
       "      <td>Christian life</td>\n",
       "      <td>http://books.google.com/books/content?id=XhQ5X...</td>\n",
       "      <td>Lewis' work on the nature of love divides love...</td>\n",
       "      <td>2002.0</td>\n",
       "      <td>4.15</td>\n",
       "      <td>170.0</td>\n",
       "      <td>...</td>\n",
       "      <td>The Four Loves</td>\n",
       "      <td>9780006280897 Lewis' work on the nature of lov...</td>\n",
       "      <td>Nonfiction</td>\n",
       "      <td>0.351483</td>\n",
       "      <td>0.150723</td>\n",
       "      <td>0.360707</td>\n",
       "      <td>0.251881</td>\n",
       "      <td>0.732686</td>\n",
       "      <td>0.111690</td>\n",
       "      <td>0.078765</td>\n",
       "    </tr>\n",
       "    <tr>\n",
       "      <th>4</th>\n",
       "      <td>9.780006e+12</td>\n",
       "      <td>0006280935</td>\n",
       "      <td>The Problem of Pain</td>\n",
       "      <td>Clive Staples Lewis</td>\n",
       "      <td>Christian life</td>\n",
       "      <td>http://books.google.com/books/content?id=Kk-uV...</td>\n",
       "      <td>\"In The Problem of Pain, C.S. Lewis, one of th...</td>\n",
       "      <td>2002.0</td>\n",
       "      <td>4.09</td>\n",
       "      <td>176.0</td>\n",
       "      <td>...</td>\n",
       "      <td>The Problem of Pain</td>\n",
       "      <td>9780006280934 \"In The Problem of Pain, C.S. Le...</td>\n",
       "      <td>Nonfiction</td>\n",
       "      <td>0.081412</td>\n",
       "      <td>0.184495</td>\n",
       "      <td>0.095043</td>\n",
       "      <td>0.040564</td>\n",
       "      <td>0.884389</td>\n",
       "      <td>0.475881</td>\n",
       "      <td>0.078765</td>\n",
       "    </tr>\n",
       "    <tr>\n",
       "      <th>...</th>\n",
       "      <td>...</td>\n",
       "      <td>...</td>\n",
       "      <td>...</td>\n",
       "      <td>...</td>\n",
       "      <td>...</td>\n",
       "      <td>...</td>\n",
       "      <td>...</td>\n",
       "      <td>...</td>\n",
       "      <td>...</td>\n",
       "      <td>...</td>\n",
       "      <td>...</td>\n",
       "      <td>...</td>\n",
       "      <td>...</td>\n",
       "      <td>...</td>\n",
       "      <td>...</td>\n",
       "      <td>...</td>\n",
       "      <td>...</td>\n",
       "      <td>...</td>\n",
       "      <td>...</td>\n",
       "      <td>...</td>\n",
       "      <td>...</td>\n",
       "    </tr>\n",
       "    <tr>\n",
       "      <th>5192</th>\n",
       "      <td>9.788172e+12</td>\n",
       "      <td>8172235224</td>\n",
       "      <td>Mistaken Identity</td>\n",
       "      <td>Nayantara Sahgal</td>\n",
       "      <td>Indic fiction (English)</td>\n",
       "      <td>http://books.google.com/books/content?id=q-tKP...</td>\n",
       "      <td>On A Train Journey Home To North India After L...</td>\n",
       "      <td>2003.0</td>\n",
       "      <td>2.93</td>\n",
       "      <td>324.0</td>\n",
       "      <td>...</td>\n",
       "      <td>Mistaken Identity</td>\n",
       "      <td>9788172235222 On A Train Journey Home To North...</td>\n",
       "      <td>Fiction</td>\n",
       "      <td>0.148209</td>\n",
       "      <td>0.030642</td>\n",
       "      <td>0.919165</td>\n",
       "      <td>0.255169</td>\n",
       "      <td>0.853722</td>\n",
       "      <td>0.980877</td>\n",
       "      <td>0.030656</td>\n",
       "    </tr>\n",
       "    <tr>\n",
       "      <th>5193</th>\n",
       "      <td>9.788173e+12</td>\n",
       "      <td>8173031010</td>\n",
       "      <td>Journey to the East</td>\n",
       "      <td>Hermann Hesse</td>\n",
       "      <td>Adventure stories</td>\n",
       "      <td>http://books.google.com/books/content?id=rq6JP...</td>\n",
       "      <td>This book tells the tale of a man who goes on ...</td>\n",
       "      <td>2002.0</td>\n",
       "      <td>3.70</td>\n",
       "      <td>175.0</td>\n",
       "      <td>...</td>\n",
       "      <td>Journey to the East</td>\n",
       "      <td>9788173031014 This book tells the tale of a ma...</td>\n",
       "      <td>Nonfiction</td>\n",
       "      <td>0.064134</td>\n",
       "      <td>0.114383</td>\n",
       "      <td>0.051363</td>\n",
       "      <td>0.400263</td>\n",
       "      <td>0.883198</td>\n",
       "      <td>0.111690</td>\n",
       "      <td>0.227765</td>\n",
       "    </tr>\n",
       "    <tr>\n",
       "      <th>5194</th>\n",
       "      <td>9.788180e+12</td>\n",
       "      <td>817992162X</td>\n",
       "      <td>The Monk Who Sold His Ferrari: A Fable About F...</td>\n",
       "      <td>Robin Sharma</td>\n",
       "      <td>Health &amp; Fitness</td>\n",
       "      <td>http://books.google.com/books/content?id=c_7mf...</td>\n",
       "      <td>Wisdom to Create a Life of Passion, Purpose, a...</td>\n",
       "      <td>2003.0</td>\n",
       "      <td>3.82</td>\n",
       "      <td>198.0</td>\n",
       "      <td>...</td>\n",
       "      <td>The Monk Who Sold His Ferrari: A Fable About F...</td>\n",
       "      <td>9788179921623 Wisdom to Create a Life of Passi...</td>\n",
       "      <td>Fiction</td>\n",
       "      <td>0.009997</td>\n",
       "      <td>0.009929</td>\n",
       "      <td>0.339217</td>\n",
       "      <td>0.947779</td>\n",
       "      <td>0.375756</td>\n",
       "      <td>0.066685</td>\n",
       "      <td>0.057625</td>\n",
       "    </tr>\n",
       "    <tr>\n",
       "      <th>5195</th>\n",
       "      <td>9.788185e+12</td>\n",
       "      <td>8185300534</td>\n",
       "      <td>I Am that</td>\n",
       "      <td>Sri Nisargadatta Maharaj;Sudhakar S. Dikshit</td>\n",
       "      <td>Philosophy</td>\n",
       "      <td>http://books.google.com/books/content?id=Fv_JP...</td>\n",
       "      <td>This collection of the timeless teachings of o...</td>\n",
       "      <td>1999.0</td>\n",
       "      <td>4.51</td>\n",
       "      <td>531.0</td>\n",
       "      <td>...</td>\n",
       "      <td>I Am that: Talks with Sri Nisargadatta Maharaj</td>\n",
       "      <td>9788185300535 This collection of the timeless ...</td>\n",
       "      <td>Nonfiction</td>\n",
       "      <td>0.064134</td>\n",
       "      <td>0.104007</td>\n",
       "      <td>0.459269</td>\n",
       "      <td>0.759456</td>\n",
       "      <td>0.951104</td>\n",
       "      <td>0.368110</td>\n",
       "      <td>0.078765</td>\n",
       "    </tr>\n",
       "    <tr>\n",
       "      <th>5196</th>\n",
       "      <td>9.789028e+12</td>\n",
       "      <td>9027712050</td>\n",
       "      <td>The Berlin Phenomenology</td>\n",
       "      <td>Georg Wilhelm Friedrich Hegel</td>\n",
       "      <td>History</td>\n",
       "      <td>http://books.google.com/books/content?id=Vy7Sk...</td>\n",
       "      <td>Since the three volume edition ofHegel's Philo...</td>\n",
       "      <td>1981.0</td>\n",
       "      <td>0.00</td>\n",
       "      <td>210.0</td>\n",
       "      <td>...</td>\n",
       "      <td>The Berlin Phenomenology</td>\n",
       "      <td>9789027712059 Since the three volume edition o...</td>\n",
       "      <td>Nonfiction</td>\n",
       "      <td>0.064134</td>\n",
       "      <td>0.104007</td>\n",
       "      <td>0.051363</td>\n",
       "      <td>0.958549</td>\n",
       "      <td>0.915193</td>\n",
       "      <td>0.111690</td>\n",
       "      <td>0.078765</td>\n",
       "    </tr>\n",
       "  </tbody>\n",
       "</table>\n",
       "<p>5197 rows × 22 columns</p>\n",
       "</div>"
      ]
     },
     "execution_count": 25,
     "metadata": {},
     "output_type": "execute_result"
    }
   ],
   "execution_count": 25
  },
  {
   "metadata": {
    "ExecuteTime": {
     "end_time": "2025-05-04T02:00:07.895863Z",
     "start_time": "2025-05-04T02:00:07.744081Z"
    }
   },
   "cell_type": "code",
   "source": "books.to_csv(\"books_with_emotions.csv\", index = False)\n",
   "id": "bc42ac9af84cade1",
   "outputs": [],
   "execution_count": 26
  }
 ],
 "metadata": {
  "kernelspec": {
   "display_name": "Python 3",
   "language": "python",
   "name": "python3"
  },
  "language_info": {
   "codemirror_mode": {
    "name": "ipython",
    "version": 2
   },
   "file_extension": ".py",
   "mimetype": "text/x-python",
   "name": "python",
   "nbconvert_exporter": "python",
   "pygments_lexer": "ipython2",
   "version": "2.7.6"
  }
 },
 "nbformat": 4,
 "nbformat_minor": 5
}
